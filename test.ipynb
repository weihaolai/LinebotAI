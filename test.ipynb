{
 "cells": [
  {
   "cell_type": "code",
   "execution_count": 52,
   "id": "3d3c7414",
   "metadata": {},
   "outputs": [],
   "source": [
    "import requests\n",
    "from bs4 import BeautifulSoup\n",
    "\n",
    "# word = input('請輸入一個字')\n",
    "def chinese(word):\n",
    "    url = f'https://www.twpen.com/{word}.html'\n",
    "\n",
    "    html = requests.get(url)\n",
    "    bs = BeautifulSoup(html.text,'lxml')\n",
    "\n",
    "    try:\n",
    "        dat = bs.find_all('div', class_='site-article-hanziinfo')\n",
    "        rad = (dat[0].find_all('p'))[0].text[:-1]\n",
    "        num = (dat[0].find_all('p'))[1].text[:-1]\n",
    "        chi = (dat[0].find_all('p'))[2].text\n",
    "        eng = (dat[0].find_all('p'))[3].text\n",
    "\n",
    "        dic = [rad,num,chi,eng]\n",
    "        for x in dic:\n",
    "            print(x)\n",
    "\n",
    "    except:\n",
    "        print('查無資料,請輸入一個字的國字')"
   ]
  },
  {
   "cell_type": "code",
   "execution_count": 53,
   "id": "49ddea76",
   "metadata": {},
   "outputs": [
    {
     "name": "stdout",
     "output_type": "stream",
     "text": [
      "部首：心\n",
      "總筆劃數：10\n",
      "注音：（單音字）  ㄍㄨㄥ      \n",
      "拼音：（單音字）  gōng      \n"
     ]
    }
   ],
   "source": [
    "chinese('恭')"
   ]
  },
  {
   "cell_type": "code",
   "execution_count": null,
   "id": "067ca050",
   "metadata": {},
   "outputs": [],
   "source": []
  }
 ],
 "metadata": {
  "kernelspec": {
   "display_name": "Python 3 (ipykernel)",
   "language": "python",
   "name": "python3"
  },
  "language_info": {
   "codemirror_mode": {
    "name": "ipython",
    "version": 3
   },
   "file_extension": ".py",
   "mimetype": "text/x-python",
   "name": "python",
   "nbconvert_exporter": "python",
   "pygments_lexer": "ipython3",
   "version": "3.9.12"
  }
 },
 "nbformat": 4,
 "nbformat_minor": 5
}
